{
  "nbformat": 4,
  "nbformat_minor": 0,
  "metadata": {
    "colab": {
      "provenance": [],
      "authorship_tag": "ABX9TyOHfFd+6rW/V5KpJ2awnE5U",
      "include_colab_link": true
    },
    "kernelspec": {
      "name": "python3",
      "display_name": "Python 3"
    },
    "language_info": {
      "name": "python"
    }
  },
  "cells": [
    {
      "cell_type": "markdown",
      "metadata": {
        "id": "view-in-github",
        "colab_type": "text"
      },
      "source": [
        "<a href=\"https://colab.research.google.com/github/akshay-bankar/AI-Architect/blob/main/customer_transaction_analysis_create_dataset.ipynb\" target=\"_parent\"><img src=\"https://colab.research.google.com/assets/colab-badge.svg\" alt=\"Open In Colab\"/></a>"
      ]
    },
    {
      "cell_type": "markdown",
      "source": [
        "# **Create Sample Dataset for Customer Transaction Analysis**"
      ],
      "metadata": {
        "id": "sslt5ed_ljRh"
      }
    },
    {
      "cell_type": "markdown",
      "source": [
        "**Import libs**"
      ],
      "metadata": {
        "id": "kNII15Nj5d8m"
      }
    },
    {
      "cell_type": "code",
      "execution_count": 22,
      "metadata": {
        "id": "q3CP7d47lfME"
      },
      "outputs": [],
      "source": [
        "import numpy as np\n",
        "import pandas as pd\n",
        "import random"
      ]
    },
    {
      "cell_type": "markdown",
      "source": [
        "**Generate random customer IDs**"
      ],
      "metadata": {
        "id": "WC9Hvd8-lghW"
      }
    },
    {
      "cell_type": "code",
      "source": [
        "customer_ids = np.random.randint(100000, 999999, size=10000)\n",
        "print(customer_ids.size)"
      ],
      "metadata": {
        "colab": {
          "base_uri": "https://localhost:8080/"
        },
        "id": "dKt1NEGo5YEd",
        "outputId": "b72d668d-1832-485a-e960-47a88803cc3b"
      },
      "execution_count": 23,
      "outputs": [
        {
          "output_type": "stream",
          "name": "stdout",
          "text": [
            "10000\n"
          ]
        }
      ]
    },
    {
      "cell_type": "markdown",
      "source": [
        "**Generate random dates between January 1, 2023, and December 31, 2023**"
      ],
      "metadata": {
        "id": "4OJRogS15pvM"
      }
    },
    {
      "cell_type": "code",
      "source": [
        "dates = pd.date_range(start='2023-01-01', end='2023-12-31').to_list()\n",
        "transaction_dates = random.choices(dates, k=10000)\n",
        "print(f\"{transaction_dates[0]} -- {transaction_dates[9999]}\")"
      ],
      "metadata": {
        "colab": {
          "base_uri": "https://localhost:8080/"
        },
        "id": "tKDrHcqu5wmG",
        "outputId": "6d4c55ae-9611-447c-b1a9-19d5def82fab"
      },
      "execution_count": 35,
      "outputs": [
        {
          "output_type": "stream",
          "name": "stdout",
          "text": [
            "2023-01-01 00:00:00\n",
            "2023-04-24 00:00:00 -- 2023-07-14 00:00:00\n"
          ]
        }
      ]
    },
    {
      "cell_type": "markdown",
      "source": [
        "**Generate random product categories**"
      ],
      "metadata": {
        "id": "6mBlVf5o-iHQ"
      }
    },
    {
      "cell_type": "code",
      "source": [
        "# Define product categories\n",
        "product_categories = ['Electronics', 'Clothing', 'Groceries', 'Furniture', 'Toys']\n",
        "transaction_categories = random.choices(product_categories, k=10000)\n",
        "print(f\"{transaction_categories[0]} -- {transaction_categories[9999]}\")"
      ],
      "metadata": {
        "colab": {
          "base_uri": "https://localhost:8080/"
        },
        "id": "Y6fVNfGZ-jhI",
        "outputId": "e315aabd-f9f8-40d4-d282-24f717f9b4f9"
      },
      "execution_count": 36,
      "outputs": [
        {
          "output_type": "stream",
          "name": "stdout",
          "text": [
            "Toys -- Electronics\n"
          ]
        }
      ]
    },
    {
      "cell_type": "markdown",
      "source": [
        "**Generate random transaction amounts**"
      ],
      "metadata": {
        "id": "Ee6JexLH-oZE"
      }
    },
    {
      "cell_type": "code",
      "source": [
        "amounts = np.random.uniform(10, 1000, size=10000)\n",
        "transaction_amounts = np.round(amounts, decimals=2)\n",
        "print(f\"{transaction_amounts[0]} -- {transaction_amounts[9999]}\")"
      ],
      "metadata": {
        "colab": {
          "base_uri": "https://localhost:8080/"
        },
        "id": "88GjmaTd_q1X",
        "outputId": "fd87769b-cdc3-4d35-fbac-e6d3c30bb650"
      },
      "execution_count": 38,
      "outputs": [
        {
          "output_type": "stream",
          "name": "stdout",
          "text": [
            "258.93 -- 259.13\n"
          ]
        }
      ]
    },
    {
      "cell_type": "markdown",
      "source": [
        "**Generate random cities**"
      ],
      "metadata": {
        "id": "VZ2Iy8dcBaQP"
      }
    },
    {
      "cell_type": "code",
      "source": [
        "cities = ['Mumbai', 'Delhi', 'Bangalore', 'Kolkata', 'Pune']\n",
        "transaction_cities = random.choices(cities, k=10000)\n",
        "print(f\"{transaction_cities[0]} -- {transaction_cities[9999]}\")"
      ],
      "metadata": {
        "colab": {
          "base_uri": "https://localhost:8080/"
        },
        "id": "rmMh9DkqBdG9",
        "outputId": "8c0d5e51-604d-48cb-b377-ffcffaaa57a6"
      },
      "execution_count": 39,
      "outputs": [
        {
          "output_type": "stream",
          "name": "stdout",
          "text": [
            "Kolkata -- Mumbai\n"
          ]
        }
      ]
    },
    {
      "cell_type": "markdown",
      "source": [
        "**Create dataframe**"
      ],
      "metadata": {
        "id": "80rtDRtcB1RA"
      }
    },
    {
      "cell_type": "code",
      "source": [
        "data = {\n",
        "    'customer_id': customer_ids,\n",
        "    'transaction_date': transaction_dates,\n",
        "    'product_category': transaction_categories,\n",
        "    'amount': transaction_amounts,\n",
        "    'city': transaction_cities\n",
        "}\n",
        "\n",
        "df = pd.DataFrame(data)\n",
        "\n",
        "print(df.head())"
      ],
      "metadata": {
        "colab": {
          "base_uri": "https://localhost:8080/"
        },
        "id": "cNK1ZhvXB3HR",
        "outputId": "7e81de8b-6335-47a9-f333-30a3ebe400c4"
      },
      "execution_count": 42,
      "outputs": [
        {
          "output_type": "stream",
          "name": "stdout",
          "text": [
            "   customer_id transaction_date product_category  amount       city\n",
            "0       753124       2023-04-24             Toys  258.93    Kolkata\n",
            "1       193424       2023-02-25      Electronics  421.81      Delhi\n",
            "2       257425       2023-12-19             Toys   94.18  Bangalore\n",
            "3       234419       2023-05-29        Furniture  925.55       Pune\n",
            "4       801295       2023-11-18             Toys  543.99  Bangalore\n"
          ]
        }
      ]
    }
  ]
}